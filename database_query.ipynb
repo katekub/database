{
 "cells": [
  {
   "cell_type": "code",
   "execution_count": 1,
   "metadata": {},
   "outputs": [],
   "source": [
    "import sqlite3"
   ]
  },
  {
   "cell_type": "code",
   "execution_count": 2,
   "metadata": {},
   "outputs": [],
   "source": [
    "conn = sqlite3.connect(\"sites_database_promo.db\")\n",
    "cursor = conn.cursor()"
   ]
  },
  {
   "cell_type": "markdown",
   "metadata": {},
   "source": [
    "Запрос : вводим категорию, выводим сайты этой категории"
   ]
  },
  {
   "cell_type": "code",
   "execution_count": 3,
   "metadata": {},
   "outputs": [
    {
     "name": "stdout",
     "output_type": "stream",
     "text": [
      "Количество сайтов данной категории : 14\n",
      "[('voip.uol.com.br',), ('pc080.net',), ('ekiga.net',), ('skype.net',), ('sipdiscount.com',), ('voipraider.com',), ('justvoip.com',), ('keyyo.com',), ('internetcalls.com',), ('wengomeeting.com',), ('thepudding.com',), ('freecall.com',), ('peterzahlt.de',), ('sparvoip.de',)]\n"
     ]
    }
   ],
   "source": [
    "category_input='Веб телефон'\n",
    "sql = \"SELECT DISTINCT site.title FROM site INNER JOIN site_class ON site.Id=site_class.site_id WHERE site_class.class_id=?\"\n",
    "sql1=\"SELECT DISTINCT site_class.class_id FROM classes INNER JOIN site_class ON classes.Id=site_class.class_id WHERE classes.title=? \"\n",
    "cursor.execute(sql1, (category_input,))\n",
    "category_id=cursor.fetchall()[0][0]\n",
    "cursor.execute(sql, (category_id,))\n",
    "sites=cursor.fetchall()\n",
    "print('Количество сайтов данной категории : '+str(len(sites)))\n",
    "if (len(sites)>100):\n",
    "    print(sites[:100])\n",
    "else:\n",
    "    print(sites)"
   ]
  },
  {
   "cell_type": "markdown",
   "metadata": {},
   "source": [
    "Запрос : вводим cайт, выводим категории"
   ]
  },
  {
   "cell_type": "code",
   "execution_count": 16,
   "metadata": {},
   "outputs": [
    {
     "name": "stdout",
     "output_type": "stream",
     "text": [
      "[('Наука,  Образование',)]\n"
     ]
    }
   ],
   "source": [
    "site_input='hse.ru'\n",
    "sql = \"SELECT DISTINCT classes.title FROM classes INNER JOIN site_class ON classes.Id=site_class.class_id WHERE site_class.class_id=?\"\n",
    "sql1=\"SELECT DISTINCT site_class.class_id FROM site INNER JOIN site_class ON site.Id=site_class.site_id WHERE site.title=? \"\n",
    "cursor.execute(sql1, (site_input,))\n",
    "res=cursor.fetchall()\n",
    "if not res:\n",
    "    print(res)\n",
    "else:\n",
    "    category_id=res[0][0]\n",
    "    cursor.execute(sql, (category_id,))\n",
    "    sites=cursor.fetchall()\n",
    "    print(sites)"
   ]
  },
  {
   "cell_type": "markdown",
   "metadata": {},
   "source": [
    "Запрос: добавить сайт в бд, если его там еще нет"
   ]
  },
  {
   "cell_type": "code",
   "execution_count": 14,
   "metadata": {},
   "outputs": [],
   "source": [
    "sit='hse.ru'\n",
    "categ='Наука,  Образование'\n",
    "find_class_id = \"SELECT DISTINCT classes.Id FROM classes WHERE classes.title=?\"\n",
    "cursor.execute(find_class_id,(categ,))\n",
    "class_id=cursor.fetchall()[0][0]\n",
    "insert_site = \"INSERT INTO site VALUES (?,?)\"\n",
    "insert_site_class = \"INSERT INTO site_class VALUES (?,?)\"\n",
    "cursor.execute(\"SELECT EXISTS(SELECT 1 FROM site WHERE title=?)\",(sit,))\n",
    "a=cursor.fetchall()[0][0]\n",
    "if (a!=1):\n",
    "    cursor.execute(\"SELECT COUNT(*) FROM site\")\n",
    "    site_id=cursor.fetchall()[0][0]+1\n",
    "    cursor.execute(insert_site, (site_id,sit)) \n",
    "    cursor.execute(insert_site_class, (site_id,class_id))"
   ]
  },
  {
   "cell_type": "code",
   "execution_count": 56,
   "metadata": {},
   "outputs": [
    {
     "name": "stdout",
     "output_type": "stream",
     "text": [
      "[('1001z.ru', 1, 1), ('24auto.ru', 1, 1), ('555pro.ru', 1, 1), ('63-rus.ru', 1, 1), ('730140.ru', 1, 1), ('77professional.ru', 1, 1), ('7samuraev.ru', 1, 1), ('a-arenda.ru', 1, 1), ('a-motors.ru', 1, 1), ('a-vw.ru', 1, 1), ('a1-auto.ru', 1, 1), ('a777aa77.ru', 1, 1), ('aa-kia.ru', 1, 1), ('ac-auto.ru', 1, 1), ('acars.ru', 2, 1), ('accent-club.ru', 1, 1), ('ackamaz.ru', 1, 1), ('africatwin.ru', 3, 1), ('agl.ru', 1, 1), ('akoc.ru', 1, 1)]\n"
     ]
    }
   ],
   "source": [
    "sql=\"SELECT site.title,COUNT(*),site_class.class_id  FROM site INNER JOIN site_class ON site_class.site_id=site.Id GROUP BY site_class.site_id\"\n",
    "cursor.execute(sql)\n",
    "s=cursor.fetchall()\n",
    "print(s[:20])"
   ]
  },
  {
   "cell_type": "code",
   "execution_count": 40,
   "metadata": {},
   "outputs": [
    {
     "name": "stdout",
     "output_type": "stream",
     "text": [
      "[(1, 'Авто,  Мото,  Транспорт'), (2, 'Азартные игры'), (3, 'Алкоголь,  Табакокурение'), (4, 'Анимация'), (5, 'Анонимные прокси,  TOR,  VPN-прокси'), (6, 'Армия,  Оружие'), (7, 'Архивы программ'), (8, 'Баннеры,  Реклама'), (9, 'Бесплатный хостинг'), (10, 'Биткоин'), (11, 'Благотворительность'), (12, 'Веб порталы'), (13, 'Веб радио'), (14, 'Веб телевидение'), (15, 'Веб телефон'), (16, 'Веб-почта'), (17, 'Вредоносное ПО,  Вирусы'), (18, 'Государство,  Политика и право'), (19, 'Дети,  Семья,  Школа'), (20, 'Дизайн,  Архитектура'), (21, 'Дом,  Дача,  Ремонт'), (22, 'Домашние животные'), (23, 'Доски объявлений'), (24, 'Запаркованные домены'), (25, 'Заработок в Интернет'), (26, 'Игры'), (27, 'Компьютеры,  Интернет'), (28, 'Криптовалюта'), (29, 'Кулинария,  Еда,  Напитки'), (30, 'Культура,  Искусство,  Классика'), (31, 'Литература,  Тексты произведений'), (32, 'Медицина,  Здоровье'), (33, 'Мода и красота'), (34, 'Музыка,  Видео,  Изображения,  Торренты'), (35, 'Наркотики'), (36, 'Насилие,  Расизм,  Ненависть'), (37, 'Наука,  Образование'), (38, 'Недвижимость'), (39, 'Некоммерческие организации'), (40, 'Нелегальное ПО'), (41, 'Непознанное,  Религия'), (42, 'Новости,  СМИ'), (43, 'Нудизм'), (44, 'Образовательные игры'), (45, 'Онлайн аукционы'), (46, 'Онлайн игры'), (47, 'Онлайн платежи'), (48, 'Онлайн покупки'), (49, 'Персональные финансы'), (50, 'Поисковые машины'), (51, 'Порнография,  Для взрослых'), (52, 'Преступники,  Криминал'), (53, 'Производство,  Промышленность'), (54, 'Путешествия,  Туризм'), (55, 'Работа,  Поиск работы'), (56, 'Развлечения,  Образ жизни'), (57, 'С плохой репутацией,  Аморальные,  Мат'), (58, 'Сексуальное образование'), (59, 'Секты'), (60, 'Селебрити,  Популярные люди'), (61, 'Сельское,  Лесное хозяйство'), (62, 'Социальные сети,  Онлайн общение'), (63, 'Спорт'), (64, 'Справочная информация'), (65, 'Страхование'), (66, 'Товары,  Услуги'), (67, 'Трекеры,  Счетчики'), (68, 'Удаленное управление'), (69, 'Фишинговые сайты'), (70, 'Форумы,  Блоги,  Персональные сайты'), (71, 'Фотография'), (72, 'Хакеры,  Взлом сетей и программ'), (73, 'Хобби'), (74, 'Шпионское ПО'), (75, 'Экономика,  Финансы'), (76, 'Эротика,  Обнажение'), (77, 'Этнос,  Национальность'), (78, 'Юмор')]\n"
     ]
    }
   ],
   "source": [
    "sql = \"SELECT * FROM classes\"\n",
    "cursor.execute(sql)\n",
    "print(cursor.fetchall())"
   ]
  },
  {
   "cell_type": "code",
   "execution_count": null,
   "metadata": {},
   "outputs": [],
   "source": []
  }
 ],
 "metadata": {
  "kernelspec": {
   "display_name": "Python 3",
   "language": "python",
   "name": "python3"
  },
  "language_info": {
   "codemirror_mode": {
    "name": "ipython",
    "version": 3
   },
   "file_extension": ".py",
   "mimetype": "text/x-python",
   "name": "python",
   "nbconvert_exporter": "python",
   "pygments_lexer": "ipython3",
   "version": "3.7.1"
  }
 },
 "nbformat": 4,
 "nbformat_minor": 2
}
