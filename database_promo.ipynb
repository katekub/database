{
 "cells": [
  {
   "cell_type": "code",
   "execution_count": 1,
   "metadata": {},
   "outputs": [],
   "source": [
    "import sqlite3"
   ]
  },
  {
   "cell_type": "code",
   "execution_count": 2,
   "metadata": {},
   "outputs": [],
   "source": [
    "conn = sqlite3.connect(\"sites_database_promo.db\") # или :memory: чтобы сохранить в RAM\n",
    "cursor = conn.cursor()"
   ]
  },
  {
   "cell_type": "code",
   "execution_count": 3,
   "metadata": {},
   "outputs": [
    {
     "data": {
      "text/plain": [
       "<sqlite3.Cursor at 0x1cdea7eab90>"
      ]
     },
     "execution_count": 3,
     "metadata": {},
     "output_type": "execute_result"
    }
   ],
   "source": [
    "cursor.execute(\"\"\"CREATE TABLE site\n",
    "                  (Id INTEGER PRIMARY KEY,title TEXT NOT NULL)\n",
    "               \"\"\")\n",
    "cursor.execute(\"\"\"CREATE TABLE classes\n",
    "                  (Id INTEGER PRIMARY KEY,title TEXT NOT NULL)\n",
    "               \"\"\")\n",
    "cursor.execute(\"\"\"CREATE TABLE site_class (\n",
    " \n",
    "site_id INTEGER NOT NULL,\n",
    " \n",
    "class_id INTEGER NOT NULL,\n",
    " \n",
    "FOREIGN KEY (site_id) REFERENCES site(id)\n",
    " \n",
    "FOREIGN KEY (class_id) REFERENCES class(id)\n",
    " \n",
    ")\n",
    "               \"\"\")"
   ]
  },
  {
   "cell_type": "code",
   "execution_count": 4,
   "metadata": {},
   "outputs": [],
   "source": [
    "import zipfile as z\n",
    "import os"
   ]
  },
  {
   "cell_type": "code",
   "execution_count": 5,
   "metadata": {},
   "outputs": [],
   "source": [
    "data = z.ZipFile(os.getcwd() + '\\zproxy_db2.zip')"
   ]
  },
  {
   "cell_type": "code",
   "execution_count": 6,
   "metadata": {},
   "outputs": [],
   "source": [
    "domains_names = [line for line in data.namelist() if 'domains' in line]\n",
    "#os.mkdir(os.getcwd() + '\\domains')\n",
    "for file in domains_names:\n",
    "    data.extract(file, path=os.getcwd() + '\\domains')"
   ]
  },
  {
   "cell_type": "code",
   "execution_count": 21,
   "metadata": {},
   "outputs": [
    {
     "data": {
      "application/vnd.jupyter.widget-view+json": {
       "model_id": "c62a6a078931451f83eb6d50c9e1bca0",
       "version_major": 2,
       "version_minor": 0
      },
      "text/plain": [
       "HBox(children=(IntProgress(value=0, max=78), HTML(value='')))"
      ]
     },
     "metadata": {},
     "output_type": "display_data"
    }
   ],
   "source": [
    "import re\n",
    "from tqdm import tqdm_notebook\n",
    "pattern = '(?<=sites\\/)[A-Za-z0-9., А-Яа-я-]*(?=\\/domains)'\n",
    "\n",
    "sites = {}\n",
    "class_id=1\n",
    "site_id=0\n",
    "insert_class = \"INSERT INTO classes VALUES (?,?)\"\n",
    "insert_site = \"INSERT INTO site VALUES (?,?)\"\n",
    "insert_site_class = \"INSERT INTO site_class VALUES (?,?)\"\n",
    "\n",
    "for site in tqdm_notebook(domains_names):\n",
    "    name = re.findall(pattern, site)[0]\n",
    "    cursor.execute(insert_class, (class_id,name))\n",
    "    with open('C:/Kate/web-crawler/zproxy_db2/' + site) as file:\n",
    "        sites[name] = file.read().split('\\n')\n",
    "        sites[name].remove('')\n",
    "        if len(sites[name])>10000:\n",
    "            sites[name]=sites[name][:10000]\n",
    "        for sit in sites[name]:\n",
    "            cursor.execute(\"SELECT EXISTS(SELECT 1 FROM site WHERE title=?)\",(sit,))\n",
    "            a=cursor.fetchall()[0][0]\n",
    "            if (a!=1):\n",
    "                site_id=site_id+1\n",
    "                cursor.execute(insert_site, (site_id,sit)) \n",
    "                cursor.execute(insert_site_class, (site_id,class_id))\n",
    "            else:\n",
    "                cursor.execute(\"SELECT site.Id FROM site WHERE site.title=?\",(sit,))\n",
    "                a=cursor.fetchall()[0][0]\n",
    "                cursor.execute(insert_site_class, (a,class_id))\n",
    "                \n",
    "            \n",
    "    class_id=class_id+1"
   ]
  },
  {
   "cell_type": "code",
   "execution_count": 22,
   "metadata": {},
   "outputs": [],
   "source": [
    "conn.commit()"
   ]
  },
  {
   "cell_type": "code",
   "execution_count": 20,
   "metadata": {},
   "outputs": [],
   "source": [
    "sql = \"DELETE FROM site_class\"\n",
    "cursor.execute(sql)\n",
    "conn.commit()\n",
    "sql = \"DELETE FROM site\"\n",
    "cursor.execute(sql)\n",
    "conn.commit()\n",
    "sql = \"DELETE FROM classes\"\n",
    "cursor.execute(sql)\n",
    "conn.commit()"
   ]
  },
  {
   "cell_type": "code",
   "execution_count": 23,
   "metadata": {},
   "outputs": [
    {
     "name": "stdout",
     "output_type": "stream",
     "text": [
      "[(1, 'Авто,  Мото,  Транспорт'), (2, 'Азартные игры'), (3, 'Алкоголь,  Табакокурение'), (4, 'Анимация'), (5, 'Анонимные прокси,  TOR,  VPN-прокси'), (6, 'Армия,  Оружие'), (7, 'Архивы программ'), (8, 'Баннеры,  Реклама'), (9, 'Бесплатный хостинг'), (10, 'Биткоин'), (11, 'Благотворительность'), (12, 'Веб порталы'), (13, 'Веб радио'), (14, 'Веб телевидение'), (15, 'Веб телефон'), (16, 'Веб-почта'), (17, 'Вредоносное ПО,  Вирусы'), (18, 'Государство,  Политика и право'), (19, 'Дети,  Семья,  Школа'), (20, 'Дизайн,  Архитектура'), (21, 'Дом,  Дача,  Ремонт'), (22, 'Домашние животные'), (23, 'Доски объявлений'), (24, 'Запаркованные домены'), (25, 'Заработок в Интернет'), (26, 'Игры'), (27, 'Компьютеры,  Интернет'), (28, 'Криптовалюта'), (29, 'Кулинария,  Еда,  Напитки'), (30, 'Культура,  Искусство,  Классика'), (31, 'Литература,  Тексты произведений'), (32, 'Медицина,  Здоровье'), (33, 'Мода и красота'), (34, 'Музыка,  Видео,  Изображения,  Торренты'), (35, 'Наркотики'), (36, 'Насилие,  Расизм,  Ненависть'), (37, 'Наука,  Образование'), (38, 'Недвижимость'), (39, 'Некоммерческие организации'), (40, 'Нелегальное ПО'), (41, 'Непознанное,  Религия'), (42, 'Новости,  СМИ'), (43, 'Нудизм'), (44, 'Образовательные игры'), (45, 'Онлайн аукционы'), (46, 'Онлайн игры'), (47, 'Онлайн платежи'), (48, 'Онлайн покупки'), (49, 'Персональные финансы'), (50, 'Поисковые машины'), (51, 'Порнография,  Для взрослых'), (52, 'Преступники,  Криминал'), (53, 'Производство,  Промышленность'), (54, 'Путешествия,  Туризм'), (55, 'Работа,  Поиск работы'), (56, 'Развлечения,  Образ жизни'), (57, 'С плохой репутацией,  Аморальные,  Мат'), (58, 'Сексуальное образование'), (59, 'Секты'), (60, 'Селебрити,  Популярные люди'), (61, 'Сельское,  Лесное хозяйство'), (62, 'Социальные сети,  Онлайн общение'), (63, 'Спорт'), (64, 'Справочная информация'), (65, 'Страхование'), (66, 'Товары,  Услуги'), (67, 'Трекеры,  Счетчики'), (68, 'Удаленное управление'), (69, 'Фишинговые сайты'), (70, 'Форумы,  Блоги,  Персональные сайты'), (71, 'Фотография'), (72, 'Хакеры,  Взлом сетей и программ'), (73, 'Хобби'), (74, 'Шпионское ПО'), (75, 'Экономика,  Финансы'), (76, 'Эротика,  Обнажение'), (77, 'Этнос,  Национальность'), (78, 'Юмор')]\n"
     ]
    }
   ],
   "source": [
    "sql = \"SELECT * FROM classes\"\n",
    "cursor.execute(sql)\n",
    "print(cursor.fetchall())"
   ]
  },
  {
   "cell_type": "code",
   "execution_count": null,
   "metadata": {},
   "outputs": [],
   "source": []
  }
 ],
 "metadata": {
  "kernelspec": {
   "display_name": "Python 3",
   "language": "python",
   "name": "python3"
  },
  "language_info": {
   "codemirror_mode": {
    "name": "ipython",
    "version": 3
   },
   "file_extension": ".py",
   "mimetype": "text/x-python",
   "name": "python",
   "nbconvert_exporter": "python",
   "pygments_lexer": "ipython3",
   "version": "3.7.1"
  }
 },
 "nbformat": 4,
 "nbformat_minor": 2
}
